{
  "nbformat": 4,
  "nbformat_minor": 0,
  "metadata": {
    "colab": {
      "name": "190100051_A1.ipynb",
      "provenance": [],
      "collapsed_sections": []
    },
    "kernelspec": {
      "name": "python3",
      "display_name": "Python 3"
    },
    "language_info": {
      "name": "python"
    }
  },
  "cells": [
    {
      "cell_type": "code",
      "metadata": {
        "id": "5St1LWk3lAOQ"
      },
      "source": [
        "import math"
      ],
      "execution_count": 27,
      "outputs": []
    },
    {
      "cell_type": "code",
      "metadata": {
        "id": "N0JMf7gXZyFg"
      },
      "source": [
        "def get_primeNumbers(number):\n",
        "# using try and except way to check for all the errors and getting rid of them\n",
        "  try:\n",
        "    n = int(number)\n",
        "    if n<0:\n",
        "      return \"You have entered wrong input\"\n",
        "    rangeEnd = n+1\n",
        "\n",
        "    # here a check because we want to list prime numbers strictly less than the given number,\n",
        "    # here I am checking for the case when it exactly an integer \n",
        "    if str(n)==str(number):\n",
        "      rangeEnd = n\n",
        "    primeCollection = []\n",
        "    for i in range(int(2),rangeEnd):\n",
        "      # check is a type of boolean variable either store 1 or 0\n",
        "      check = isPrime(int(i))\n",
        "      if check==int(1):\n",
        "        primeCollection.append(i)\n",
        "    return primeCollection\n",
        "\n",
        "  except (AssertionError, ValueError):\n",
        "    return \"You have entered wrong input\"    \n",
        "\n",
        "#Function to check if the number is prime or not    \n",
        "def isPrime(num):\n",
        "  #max no. can be n^2 = num -> n = sqrt(num) so we are only checking till n for factors\n",
        "  upperLimit = int(math.sqrt(num))\n",
        "  if num<2:\n",
        "    return 0\n",
        "  for i in range(2,upperLimit+1):\n",
        "    if num%i==0:\n",
        "      return 0\n",
        "  return 1"
      ],
      "execution_count": 31,
      "outputs": []
    },
    {
      "cell_type": "code",
      "metadata": {
        "colab": {
          "base_uri": "https://localhost:8080/"
        },
        "id": "itvyn7ffqKsB",
        "outputId": "b52342bf-7907-4995-c703-e65f8bf3c059"
      },
      "source": [
        "# Write down your input in the below bracket\n",
        "print(get_primeNumbers(25))\n",
        "print(get_primeNumbers('16'))\n",
        "print(get_primeNumbers('xyz'))\n",
        "print(get_primeNumbers(19))\n",
        "print(get_primeNumbers(3))\n",
        "print(get_primeNumbers(-9))"
      ],
      "execution_count": 44,
      "outputs": [
        {
          "output_type": "stream",
          "text": [
            "[2, 3, 5, 7, 11, 13, 17, 19, 23]\n",
            "[2, 3, 5, 7, 11, 13]\n",
            "You have entered wrong input\n",
            "[2, 3, 5, 7, 11, 13, 17]\n",
            "[2]\n",
            "You have entered wrong input\n"
          ],
          "name": "stdout"
        }
      ]
    },
    {
      "cell_type": "code",
      "metadata": {
        "colab": {
          "base_uri": "https://localhost:8080/"
        },
        "id": "he0n-ZQjSgcl",
        "outputId": "68135fcf-a63c-426a-f7df-38f36553b741"
      },
      "source": [
        "#Problem No.2 Tower Hanoi \n",
        "def towerHanoi(numberOfRings,A,B,C):\n",
        "  # a counter variable for steps\n",
        "  global stepCounter\n",
        "  if numberOfRings > 0:\n",
        "    # initially we move items from A to C leaving the biggest ring on A\n",
        "    towerHanoi(numberOfRings-1,A,C,B)\n",
        "    B.append(A.pop())\n",
        "    #incrementing \n",
        "    stepCounter+=1\n",
        "    print(\"Step {} = {} {} {}\".format(stepCounter,A,B,C))\n",
        "    # here we move all items from C to B \n",
        "    towerHanoi(numberOfRings-1,C,B,A)\n",
        "\n",
        "global stepCounter\n",
        "stepCounter = 0\n",
        "numberOfRings = int(input('Enter the number of rings at A: '))\n",
        "A = []\n",
        "B = []\n",
        "C = []\n",
        "for i in range(numberOfRings,0,-1):\n",
        "  A.append(i)\n",
        "\n",
        "print(\"Initial condition = {} {} {}\".format(A,B,C))\n",
        "\n",
        "# calling the function\n",
        "towerHanoi(numberOfRings,A,B,C)\n",
        "\n",
        "\n",
        "  \n"
      ],
      "execution_count": 25,
      "outputs": [
        {
          "output_type": "stream",
          "text": [
            "Enter the number of rings at A: 3\n",
            "Initial condition = [3, 2, 1] [] []\n",
            "Step 1 = [3, 2] [1] []\n",
            "Step 2 = [3] [2] [1]\n",
            "Step 3 = [] [2, 1] [3]\n",
            "Step 4 = [] [3] [2, 1]\n",
            "Step 5 = [2] [1] [3]\n",
            "Step 6 = [] [3, 2] [1]\n",
            "Step 7 = [] [3, 2, 1] []\n"
          ],
          "name": "stdout"
        }
      ]
    }
  ]
}